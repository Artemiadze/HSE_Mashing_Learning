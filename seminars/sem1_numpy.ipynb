{
 "cells": [
  {
   "cell_type": "markdown",
   "metadata": {
    "id": "SEtabSgU9GcC"
   },
   "source": [
    "# NumPy Практикум: основы и примеры\n",
    "\n",
    "## Цели:\n",
    "\n",
    "- Освоить базовое создание и работу с массивами NumPy\n",
    "\n",
    "- Понять индексацию/срезы, трансформации формы, broadcasting\n",
    "\n",
    "- Научиться агрегировать и сортировать данные\n",
    "\n",
    "- Работать со случайными числами, NaN и линейной алгеброй"
   ]
  },
  {
   "cell_type": "markdown",
   "metadata": {
    "id": "XwZE8OpL9NjC"
   },
   "source": [
    "Импорт и базовые настройки"
   ]
  },
  {
   "cell_type": "code",
   "execution_count": 1,
   "metadata": {
    "id": "CJftXjMt9Jbg"
   },
   "outputs": [],
   "source": [
    "import numpy as np\n",
    "\n",
    "# Рекомендуется использовать новый генератор случайных чисел\n",
    "rng = np.random.default_rng(seed=42)\n",
    "\n",
    "# Красивый вывод чисел\n",
    "np.set_printoptions(suppress=True, precision=3)"
   ]
  },
  {
   "cell_type": "markdown",
   "metadata": {
    "id": "H4HIRthe9UPJ"
   },
   "source": [
    "1. Создание массивов"
   ]
  },
  {
   "cell_type": "code",
   "execution_count": 2,
   "metadata": {
    "colab": {
     "base_uri": "https://localhost:8080/"
    },
    "id": "GKetBtnk9QWc",
    "outputId": "d4ba22e3-7f2a-4f49-d966-1fbcd9cc5a63"
   },
   "outputs": [
    {
     "name": "stdout",
     "output_type": "stream",
     "text": [
      "[1 2 3] int64\n",
      "[[1.  2. ]\n",
      " [3.5 4.5]] float64\n"
     ]
    }
   ],
   "source": [
    "# Из Python-списков\n",
    "a = np.array([1, 2, 3], dtype=np.int64)\n",
    "b = np.array([[1.0, 2.0], [3.5, 4.5]])  # dtype float автоматически\n",
    "print(a, a.dtype)\n",
    "print(b, b.dtype)"
   ]
  },
  {
   "cell_type": "code",
   "execution_count": 3,
   "metadata": {
    "colab": {
     "base_uri": "https://localhost:8080/"
    },
    "id": "GKetBtnk9QWc",
    "outputId": "d4ba22e3-7f2a-4f49-d966-1fbcd9cc5a63"
   },
   "outputs": [
    {
     "name": "stdout",
     "output_type": "stream",
     "text": [
      "[[0. 0. 0.]\n",
      " [0. 0. 0.]]\n",
      "[[1. 1.]\n",
      " [1. 1.]\n",
      " [1. 1.]]\n",
      "[[7 7]\n",
      " [7 7]]\n",
      "[[1. 0. 0. 0.]\n",
      " [0. 1. 0. 0.]\n",
      " [0. 0. 1. 0.]\n",
      " [0. 0. 0. 1.]]\n",
      "[[10  0  0]\n",
      " [ 0 20  0]\n",
      " [ 0  0 30]]\n"
     ]
    }
   ],
   "source": [
    "# Специальные конструкторы\n",
    "z = np.zeros((2, 3))\n",
    "o = np.ones((3, 2))\n",
    "full = np.full((2, 2), fill_value=7)\n",
    "eye = np.eye(4)              # единичная матрица\n",
    "diag = np.diag([10, 20, 30]) # диагональная матрица\n",
    "\n",
    "print(z)\n",
    "print(o)\n",
    "print(full)\n",
    "print(eye)\n",
    "print(diag)"
   ]
  },
  {
   "cell_type": "code",
   "execution_count": 61,
   "metadata": {
    "colab": {
     "base_uri": "https://localhost:8080/"
    },
    "id": "GKetBtnk9QWc",
    "outputId": "d4ba22e3-7f2a-4f49-d966-1fbcd9cc5a63"
   },
   "outputs": [
    {
     "name": "stdout",
     "output_type": "stream",
     "text": [
      "[0 2 4 6 8]\n",
      "[0.   0.25 0.5  0.75 1.  ]\n"
     ]
    }
   ],
   "source": [
    "# Числовые последовательности\n",
    "ar = np.arange(0, 10, 2)     # [0, 2, 4, 6, 8]\n",
    "lin = np.linspace(0, 1, 5)   # 5 точек от 0 до 1 включительно\n",
    "print(ar)\n",
    "print(lin)"
   ]
  },
  {
   "cell_type": "code",
   "execution_count": 62,
   "metadata": {
    "colab": {
     "base_uri": "https://localhost:8080/"
    },
    "id": "GKetBtnk9QWc",
    "outputId": "d4ba22e3-7f2a-4f49-d966-1fbcd9cc5a63"
   },
   "outputs": [
    {
     "name": "stdout",
     "output_type": "stream",
     "text": [
      "[[0.774 0.439 0.859]\n",
      " [0.697 0.094 0.976]]\n",
      "[ 0.128 -0.316 -0.017 -0.853  0.879]\n",
      "[[1 9 7 6 4]\n",
      " [8 5 4 4 2]]\n"
     ]
    }
   ],
   "source": [
    "# Случайные числа (новый API через Generator)\n",
    "u = rng.random((2, 3))                 # U(0, 1)\n",
    "n = rng.normal(loc=0, scale=1, size=5) # N(0, 1)\n",
    "ri = rng.integers(0, 10, size=(2, 5))  # целые [0, 10)\n",
    "print(u)\n",
    "print(n)\n",
    "print(ri)"
   ]
  },
  {
   "cell_type": "markdown",
   "metadata": {
    "id": "Jc83l8Bl9bTQ"
   },
   "source": [
    "2. Атрибуты массива"
   ]
  },
  {
   "cell_type": "code",
   "execution_count": 63,
   "metadata": {
    "colab": {
     "base_uri": "https://localhost:8080/"
    },
    "id": "vv9uPjgu9WvK",
    "outputId": "e6c25b92-9a43-4cb9-895a-01f926855375"
   },
   "outputs": [
    {
     "name": "stdout",
     "output_type": "stream",
     "text": [
      "[[0 5 8 0]\n",
      " [8 8 2 6]\n",
      " [1 7 7 3]]\n",
      "ndim: 2\n",
      "shape: (3, 4)\n",
      "size: 12\n",
      "dtype: int64\n",
      "itemsize: 8 байт на элемент\n",
      "nbytes: 96 всего байт\n"
     ]
    }
   ],
   "source": [
    "x = rng.integers(0, 10, size=(3, 4))\n",
    "print(x)\n",
    "print(\"ndim:\", x.ndim)     # число измерений\n",
    "print(\"shape:\", x.shape)   # форма\n",
    "print(\"size:\", x.size)     # количество элементов\n",
    "print(\"dtype:\", x.dtype)   # тип данных\n",
    "print(\"itemsize:\", x.itemsize, \"байт на элемент\")\n",
    "print(\"nbytes:\", x.nbytes, \"всего байт\")"
   ]
  },
  {
   "cell_type": "markdown",
   "metadata": {
    "id": "JaZMmCe69gQn"
   },
   "source": [
    "3. Индексация, срезы, булевы и «фэнси»-индексация"
   ]
  },
  {
   "cell_type": "code",
   "execution_count": 64,
   "metadata": {
    "colab": {
     "base_uri": "https://localhost:8080/"
    },
    "id": "yZiYeQnT9dme",
    "outputId": "865c8b84-5ba9-48cc-b1e0-d104d9ed60c6"
   },
   "outputs": [
    {
     "name": "stdout",
     "output_type": "stream",
     "text": [
      "y: [0 1 2 3 4 5 6 7 8 9]\n",
      "y[0], y[-1]: 0 9\n",
      "y[2:7:2]: [2 4 6]\n",
      "y[::-1]: [9 8 7 6 5 4 3 2 1 0]\n"
     ]
    }
   ],
   "source": [
    "y = np.arange(10)\n",
    "print(\"y:\", y)\n",
    "print(\"y[0], y[-1]:\", y[0], y[-1])\n",
    "print(\"y[2:7:2]:\", y[2:7:2])   # срез с шагом\n",
    "print(\"y[::-1]:\", y[::-1])     # разворот"
   ]
  },
  {
   "cell_type": "code",
   "execution_count": 65,
   "metadata": {
    "colab": {
     "base_uri": "https://localhost:8080/"
    },
    "id": "yZiYeQnT9dme",
    "outputId": "865c8b84-5ba9-48cc-b1e0-d104d9ed60c6"
   },
   "outputs": [
    {
     "name": "stdout",
     "output_type": "stream",
     "text": [
      "M:\n",
      " [[ 1  2  3  4]\n",
      " [ 5  6  7  8]\n",
      " [ 9 10 11 12]]\n",
      "M[1, 2]: 7\n",
      "M[1, :]: [5 6 7 8]\n",
      "M[:, 2]: [ 3  7 11]\n",
      "Подматрица 2x2:\n",
      " [[1 2]\n",
      " [5 6]]\n"
     ]
    }
   ],
   "source": [
    "M = np.arange(1, 13).reshape(3, 4)\n",
    "print(\"M:\\n\", M)\n",
    "print(\"M[1, 2]:\", M[1, 2])     # элемент\n",
    "print(\"M[1, :]:\", M[1, :])     # строка\n",
    "print(\"M[:, 2]:\", M[:, 2])     # столбец\n",
    "print(\"Подматрица 2x2:\\n\", M[:2, :2])"
   ]
  },
  {
   "cell_type": "code",
   "execution_count": 66,
   "metadata": {
    "colab": {
     "base_uri": "https://localhost:8080/"
    },
    "id": "yZiYeQnT9dme",
    "outputId": "865c8b84-5ba9-48cc-b1e0-d104d9ed60c6"
   },
   "outputs": [
    {
     "name": "stdout",
     "output_type": "stream",
     "text": [
      "mask:\n",
      " [[False  True False  True]\n",
      " [False  True False  True]\n",
      " [False  True False  True]]\n",
      "Только четные:\n",
      " [ 2  4  6  8 10 12]\n"
     ]
    }
   ],
   "source": [
    "# Булевы маски\n",
    "mask = M % 2 == 0\n",
    "print(\"mask:\\n\", mask)\n",
    "print(\"Только четные:\\n\", M[mask])"
   ]
  },
  {
   "cell_type": "code",
   "execution_count": 67,
   "metadata": {
    "colab": {
     "base_uri": "https://localhost:8080/"
    },
    "id": "yZiYeQnT9dme",
    "outputId": "865c8b84-5ba9-48cc-b1e0-d104d9ed60c6"
   },
   "outputs": [
    {
     "name": "stdout",
     "output_type": "stream",
     "text": [
      "M2:\n",
      " [[ 0  0  0  0]\n",
      " [ 5  6  7  8]\n",
      " [ 9 10 11 12]]\n"
     ]
    }
   ],
   "source": [
    "# Изменение по маске\n",
    "M2 = M.copy()\n",
    "M2[M2 < 5] = 0\n",
    "print(\"M2:\\n\", M2)"
   ]
  },
  {
   "cell_type": "code",
   "execution_count": 68,
   "metadata": {
    "colab": {
     "base_uri": "https://localhost:8080/"
    },
    "id": "yZiYeQnT9dme",
    "outputId": "865c8b84-5ba9-48cc-b1e0-d104d9ed60c6"
   },
   "outputs": [
    {
     "name": "stdout",
     "output_type": "stream",
     "text": [
      "Выбор элементов М[rows, cols]: [ 2 12]\n"
     ]
    }
   ],
   "source": [
    "# Фэнси индексация (индексы-списки/массивы)\n",
    "rows = [0, 2]\n",
    "cols = [1, 3]\n",
    "print(\"Выбор элементов М[rows, cols]:\", M[rows, cols])  # (0,1) и (2,3)"
   ]
  },
  {
   "cell_type": "code",
   "execution_count": 69,
   "metadata": {
    "colab": {
     "base_uri": "https://localhost:8080/"
    },
    "id": "yZiYeQnT9dme",
    "outputId": "865c8b84-5ba9-48cc-b1e0-d104d9ed60c6"
   },
   "outputs": [
    {
     "name": "stdout",
     "output_type": "stream",
     "text": [
      "a изменился через view: [999   1   2   3   4]\n"
     ]
    }
   ],
   "source": [
    "# Виды vs копии:\n",
    "a = np.arange(5)\n",
    "view = a[::2]          # срез — представление (view)\n",
    "view[0] = 999\n",
    "print(\"a изменился через view:\", a)"
   ]
  },
  {
   "cell_type": "code",
   "execution_count": 70,
   "metadata": {
    "colab": {
     "base_uri": "https://localhost:8080/"
    },
    "id": "yZiYeQnT9dme",
    "outputId": "865c8b84-5ba9-48cc-b1e0-d104d9ed60c6"
   },
   "outputs": [
    {
     "name": "stdout",
     "output_type": "stream",
     "text": [
      "a не изменился через копию: [999   1   2   3   4]\n"
     ]
    }
   ],
   "source": [
    "copy_idx = a[[0, 2, 4]] # фэнси — копия\n",
    "copy_idx[0] = -123\n",
    "print(\"a не изменился через копию:\", a)"
   ]
  },
  {
   "cell_type": "markdown",
   "metadata": {
    "id": "s8e25opZ9lSw"
   },
   "source": [
    "5. Агрегации и статистики"
   ]
  },
  {
   "cell_type": "code",
   "execution_count": 71,
   "metadata": {
    "colab": {
     "base_uri": "https://localhost:8080/"
    },
    "id": "k5x9s2g-9ib9",
    "outputId": "4c08f406-91c4-4ec9-abd1-caf123d69bd9"
   },
   "outputs": [
    {
     "name": "stdout",
     "output_type": "stream",
     "text": [
      "A:\n",
      " [[0 9 4 8]\n",
      " [6 7 7 1]\n",
      " [3 4 4 0]]\n",
      "sum A: 53\n",
      "sum по строкам: [21 21 11]\n",
      "sum по столбцам: [ 9 20 15  9]\n",
      "mean: 4.416666666666667 std: 2.9285472318009296 min: 0 max: 9\n"
     ]
    }
   ],
   "source": [
    "A = rng.integers(0, 10, size=(3, 4))\n",
    "print(\"A:\\n\", A)\n",
    "print(\"sum A:\", A.sum())\n",
    "print(\"sum по строкам:\", A.sum(axis=1))\n",
    "print(\"sum по столбцам:\", A.sum(axis=0))\n",
    "print(\"mean:\", A.mean(), \"std:\", A.std(), \"min:\", A.min(), \"max:\", A.max())"
   ]
  },
  {
   "cell_type": "code",
   "execution_count": 72,
   "metadata": {
    "colab": {
     "base_uri": "https://localhost:8080/"
    },
    "id": "k5x9s2g-9ib9",
    "outputId": "4c08f406-91c4-4ec9-abd1-caf123d69bd9"
   },
   "outputs": [
    {
     "name": "stdout",
     "output_type": "stream",
     "text": [
      "argmax flat: 1 -> индекс в форме: (np.int64(0), np.int64(1))\n",
      "argmax по столбцам: [1 0 1 0]\n",
      "percentile 90: 7.9\n"
     ]
    }
   ],
   "source": [
    "# Индексы экстремумов\n",
    "print(\"argmax flat:\", A.argmax(), \"-> индекс в форме:\", np.unravel_index(A.argmax(), A.shape))\n",
    "print(\"argmax по столбцам:\", A.argmax(axis=0))\n",
    "print(\"percentile 90:\", np.percentile(A, 90))"
   ]
  },
  {
   "cell_type": "markdown",
   "metadata": {
    "id": "oV8-pBsV9ny7"
   },
   "source": [
    "4. Арифметика, ufunc и broadcasting\n"
   ]
  },
  {
   "cell_type": "code",
   "execution_count": 73,
   "metadata": {
    "colab": {
     "base_uri": "https://localhost:8080/"
    },
    "id": "3esme2lF9nBA",
    "outputId": "ec4b952f-22d2-4942-9a58-b86bb063a7f0"
   },
   "outputs": [
    {
     "name": "stdout",
     "output_type": "stream",
     "text": [
      "Сложение/вычитание: [11 22 33] [ -9 -18 -27]\n",
      "Умножение поэлементно: [10 40 90]\n",
      "Деление поэлементно: [10. 10. 10.]\n",
      "Степень: [1 4 9]\n"
     ]
    }
   ],
   "source": [
    "p = np.array([1, 2, 3])\n",
    "q = np.array([10, 20, 30])\n",
    "\n",
    "print(\"Сложение/вычитание:\", p + q, p - q)\n",
    "print(\"Умножение поэлементно:\", p * q)\n",
    "print(\"Деление поэлементно:\", q / p)\n",
    "print(\"Степень:\", p ** 2)"
   ]
  },
  {
   "cell_type": "code",
   "execution_count": 74,
   "metadata": {
    "colab": {
     "base_uri": "https://localhost:8080/"
    },
    "id": "3esme2lF9nBA",
    "outputId": "ec4b952f-22d2-4942-9a58-b86bb063a7f0"
   },
   "outputs": [
    {
     "name": "stdout",
     "output_type": "stream",
     "text": [
      "r: [-2. -1.  0.  1.  2.]\n",
      "exp(r): [0.135 0.368 1.    2.718 7.389]\n",
      "log(|r|+1): [1.099 0.693 0.    0.693 1.099]\n",
      "sin(r): [-0.909 -0.841  0.     0.841  0.909]\n"
     ]
    }
   ],
   "source": [
    "# Ufunc (универсальные функции) — поэлементные\n",
    "r = np.linspace(-2, 2, 5)\n",
    "print(\"r:\", r)\n",
    "print(\"exp(r):\", np.exp(r))\n",
    "print(\"log(|r|+1):\", np.log(np.abs(r) + 1))\n",
    "print(\"sin(r):\", np.sin(r))"
   ]
  },
  {
   "cell_type": "code",
   "execution_count": 75,
   "metadata": {
    "colab": {
     "base_uri": "https://localhost:8080/"
    },
    "id": "3esme2lF9nBA",
    "outputId": "ec4b952f-22d2-4942-9a58-b86bb063a7f0"
   },
   "outputs": [
    {
     "name": "stdout",
     "output_type": "stream",
     "text": [
      "ReLU(r): [0. 0. 0. 1. 2.]\n"
     ]
    }
   ],
   "source": [
    "# np.where — условное поэлементное ветвление\n",
    "relu = np.where(r > 0, r, 0)\n",
    "print(\"ReLU(r):\", relu)"
   ]
  },
  {
   "cell_type": "code",
   "execution_count": 76,
   "metadata": {
    "colab": {
     "base_uri": "https://localhost:8080/"
    },
    "id": "3esme2lF9nBA",
    "outputId": "ec4b952f-22d2-4942-9a58-b86bb063a7f0"
   },
   "outputs": [
    {
     "name": "stdout",
     "output_type": "stream",
     "text": [
      "X:\n",
      " [[ 0.413  0.431  2.142]\n",
      " [-0.406 -0.512 -0.814]\n",
      " [ 0.616  1.129 -0.114]\n",
      " [-0.84  -0.824  0.651]]\n",
      "col_means: [-0.054  0.056  0.466]\n",
      "X_centered:\n",
      " [[ 0.467  0.375  1.676]\n",
      " [-0.352 -0.568 -1.28 ]\n",
      " [ 0.67   1.073 -0.58 ]\n",
      " [-0.786 -0.88   0.184]]\n"
     ]
    }
   ],
   "source": [
    "# Broadcasting: вычитание среднего из столбцов\n",
    "X = rng.normal(size=(4, 3))\n",
    "col_means = X.mean(axis=0)         # shape (3,)\n",
    "X_centered = X - col_means         # (4, 3) - (3,) = (4, 3)\n",
    "print(\"X:\\n\", X)\n",
    "print(\"col_means:\", col_means)\n",
    "print(\"X_centered:\\n\", X_centered)"
   ]
  },
  {
   "cell_type": "code",
   "execution_count": 77,
   "metadata": {
    "colab": {
     "base_uri": "https://localhost:8080/"
    },
    "id": "3esme2lF9nBA",
    "outputId": "ec4b952f-22d2-4942-9a58-b86bb063a7f0"
   },
   "outputs": [
    {
     "name": "stdout",
     "output_type": "stream",
     "text": [
      "a + b (broadcast до 3x4):\n",
      " [[0 1 2 3]\n",
      " [1 2 3 4]\n",
      " [2 3 4 5]]\n"
     ]
    }
   ],
   "source": [
    "# Пример с добавлением осей\n",
    "a = np.arange(3).reshape(3, 1)     # shape (3,1)\n",
    "b = np.arange(4).reshape(1, 4)     # shape (1,4)\n",
    "print(\"a + b (broadcast до 3x4):\\n\", a + b)"
   ]
  },
  {
   "cell_type": "markdown",
   "metadata": {
    "id": "ytcnRLhr99kZ"
   },
   "source": [
    "6. Изменение формы, транспонирование, конкатенация"
   ]
  },
  {
   "cell_type": "code",
   "execution_count": 78,
   "metadata": {
    "colab": {
     "base_uri": "https://localhost:8080/"
    },
    "id": "h496h3Rx9xty",
    "outputId": "baca7a43-aa54-4e19-ec84-b0e2a8829ebc"
   },
   "outputs": [
    {
     "name": "stdout",
     "output_type": "stream",
     "text": [
      "B: [ 0  1  2  3  4  5  6  7  8  9 10 11]\n",
      "reshape 3x4:\n",
      " [[ 0  1  2  3]\n",
      " [ 4  5  6  7]\n",
      " [ 8  9 10 11]]\n",
      "ravel (view если возможно): [ 0  1  2  3  4  5  6  7  8  9 10 11]\n",
      "flatten (всегда копия): [ 0  1  2  3  4  5  6  7  8  9 10 11]\n"
     ]
    }
   ],
   "source": [
    "B = np.arange(12)\n",
    "print(\"B:\", B)\n",
    "print(\"reshape 3x4:\\n\", B.reshape(3, 4))\n",
    "print(\"ravel (view если возможно):\", B.reshape(3,4).ravel())\n",
    "print(\"flatten (всегда копия):\", B.reshape(3,4).flatten())"
   ]
  },
  {
   "cell_type": "code",
   "execution_count": 79,
   "metadata": {
    "colab": {
     "base_uri": "https://localhost:8080/"
    },
    "id": "h496h3Rx9xty",
    "outputId": "baca7a43-aa54-4e19-ec84-b0e2a8829ebc"
   },
   "outputs": [
    {
     "name": "stdout",
     "output_type": "stream",
     "text": [
      "C:\n",
      " [[0 1 2]\n",
      " [3 4 5]]\n",
      "C.T:\n",
      " [[0 3]\n",
      " [1 4]\n",
      " [2 5]]\n",
      "swapaxes 0<->1:\n",
      " [[0 3]\n",
      " [1 4]\n",
      " [2 5]]\n"
     ]
    }
   ],
   "source": [
    "C = np.arange(6).reshape(2, 3)\n",
    "print(\"C:\\n\", C)\n",
    "print(\"C.T:\\n\", C.T)\n",
    "print(\"swapaxes 0<->1:\\n\", np.swapaxes(C, 0, 1))"
   ]
  },
  {
   "cell_type": "code",
   "execution_count": 80,
   "metadata": {
    "colab": {
     "base_uri": "https://localhost:8080/"
    },
    "id": "h496h3Rx9xty",
    "outputId": "baca7a43-aa54-4e19-ec84-b0e2a8829ebc"
   },
   "outputs": [
    {
     "name": "stdout",
     "output_type": "stream",
     "text": [
      "concatenate по оси 1:\n",
      " [[  0   1   2 100 101 102]\n",
      " [  3   4   5 103 104 105]]\n",
      "vstack:\n",
      " [[  0   1   2]\n",
      " [  3   4   5]\n",
      " [100 101 102]\n",
      " [103 104 105]]\n",
      "hstack:\n",
      " [[  0   1   2 100 101 102]\n",
      " [  3   4   5 103 104 105]]\n"
     ]
    }
   ],
   "source": [
    "# Склейки и разбиения\n",
    "X1 = np.arange(6).reshape(2, 3)\n",
    "X2 = np.arange(100, 106).reshape(2, 3)\n",
    "print(\"concatenate по оси 1:\\n\", np.concatenate([X1, X2], axis=1))\n",
    "print(\"vstack:\\n\", np.vstack([X1, X2]))\n",
    "print(\"hstack:\\n\", np.hstack([X1, X2]))"
   ]
  },
  {
   "cell_type": "code",
   "execution_count": 81,
   "metadata": {
    "colab": {
     "base_uri": "https://localhost:8080/"
    },
    "id": "h496h3Rx9xty",
    "outputId": "baca7a43-aa54-4e19-ec84-b0e2a8829ebc"
   },
   "outputs": [
    {
     "name": "stdout",
     "output_type": "stream",
     "text": [
      "split на 3 части: [array([0, 1, 2, 3]), array([4, 5, 6]), array([7, 8, 9])]\n"
     ]
    }
   ],
   "source": [
    "Y = np.arange(10)\n",
    "print(\"split на 3 части:\", np.array_split(Y, 3))  # части могут быть неравными"
   ]
  },
  {
   "cell_type": "code",
   "execution_count": 82,
   "metadata": {
    "colab": {
     "base_uri": "https://localhost:8080/"
    },
    "id": "h496h3Rx9xty",
    "outputId": "baca7a43-aa54-4e19-ec84-b0e2a8829ebc"
   },
   "outputs": [
    {
     "name": "stdout",
     "output_type": "stream",
     "text": [
      "repeat элементов: [1 2 2 3 3 3]\n",
      "tile в 2 строки:\n",
      " [[1 2 3]\n",
      " [1 2 3]]\n"
     ]
    }
   ],
   "source": [
    "# repeat и tile\n",
    "v = np.array([1, 2, 3])\n",
    "print(\"repeat элементов:\", np.repeat(v, [1, 2, 3]))  # [1, 2,2, 3,3,3]\n",
    "print(\"tile в 2 строки:\\n\", np.tile(v, (2, 1)))"
   ]
  },
  {
   "cell_type": "markdown",
   "metadata": {
    "id": "C95J060S-Ddq"
   },
   "source": [
    "7. Работа с NaN и Inf"
   ]
  },
  {
   "cell_type": "code",
   "execution_count": 83,
   "metadata": {
    "colab": {
     "base_uri": "https://localhost:8080/"
    },
    "id": "2OrXjF7m-BaU",
    "outputId": "abaae9db-7b68-4234-d1df-1628b7466fb1"
   },
   "outputs": [
    {
     "name": "stdout",
     "output_type": "stream",
     "text": [
      "W: [  1.  nan   2.  inf -inf]\n",
      "isnan: [False  True False False False]\n",
      "isfinite: [ True False  True False False]\n"
     ]
    }
   ],
   "source": [
    "W = np.array([1.0, np.nan, 2.0, np.inf, -np.inf])\n",
    "print(\"W:\", W)\n",
    "print(\"isnan:\", np.isnan(W))\n",
    "print(\"isfinite:\", np.isfinite(W))"
   ]
  },
  {
   "cell_type": "code",
   "execution_count": 84,
   "metadata": {
    "colab": {
     "base_uri": "https://localhost:8080/"
    },
    "id": "2OrXjF7m-BaU",
    "outputId": "abaae9db-7b68-4234-d1df-1628b7466fb1"
   },
   "outputs": [
    {
     "name": "stdout",
     "output_type": "stream",
     "text": [
      "mean с NaN: nan\n",
      "nanmean: 1.5\n"
     ]
    }
   ],
   "source": [
    "W = np.array([1.0, np.nan, 2.0])\n",
    "# nan-версии агрегатов игнорируют NaN\n",
    "print(\"mean с NaN:\", np.mean(W))       # будет nan\n",
    "print(\"nanmean:\", np.nanmean(W))       # игнорирует NaN"
   ]
  },
  {
   "cell_type": "code",
   "execution_count": 85,
   "metadata": {
    "colab": {
     "base_uri": "https://localhost:8080/"
    },
    "id": "2OrXjF7m-BaU",
    "outputId": "abaae9db-7b68-4234-d1df-1628b7466fb1"
   },
   "outputs": [
    {
     "name": "stdout",
     "output_type": "stream",
     "text": [
      "Z с NaN:\n",
      " [[ 0.743    nan    nan]\n",
      " [ 0.232  0.117  0.219]\n",
      " [ 0.871  0.224  0.679]\n",
      " [ 0.068  0.289    nan]\n",
      " [-1.457    nan -0.47 ]]\n",
      "Z без NaN:\n",
      " [[ 0.743  0.21   0.142]\n",
      " [ 0.232  0.117  0.219]\n",
      " [ 0.871  0.224  0.679]\n",
      " [ 0.068  0.289  0.142]\n",
      " [-1.457  0.21  -0.47 ]]\n"
     ]
    }
   ],
   "source": [
    "# Замена NaN на среднее\n",
    "Z = rng.normal(size=(5, 3))\n",
    "mask = rng.random((5, 3)) < 0.3\n",
    "Z[mask] = np.nan\n",
    "col_means = np.nanmean(Z, axis=0)\n",
    "Z_filled = np.where(np.isnan(Z), col_means, Z)\n",
    "print(\"Z с NaN:\\n\", Z)\n",
    "print(\"Z без NaN:\\n\", Z_filled)"
   ]
  },
  {
   "cell_type": "markdown",
   "metadata": {
    "id": "TnqeNQ5_-JuJ"
   },
   "source": [
    "8. Случайные числа: выборки и перестановки"
   ]
  },
  {
   "cell_type": "code",
   "execution_count": 86,
   "metadata": {
    "colab": {
     "base_uri": "https://localhost:8080/"
    },
    "id": "Ay68vx_j-IdC",
    "outputId": "5d1b0d40-200e-4ac7-a507-6c10da742f6c"
   },
   "outputs": [
    {
     "name": "stdout",
     "output_type": "stream",
     "text": [
      "перемешанный arr: [7 4 0 2 1 5 6 8 3 9]\n",
      "выбор 5 элементов без возвращения: [4 3 7 2 8]\n",
      "выбор с весами: [5 2 8 2 7]\n",
      "среднее значение кубика: 3.37\n"
     ]
    }
   ],
   "source": [
    "rng = np.random.default_rng(123)     # фиксируем сид для воспроизводимости\n",
    "\n",
    "# Перестановка и выборка\n",
    "arr = np.arange(10)\n",
    "print(\"перемешанный arr:\", rng.permutation(arr))\n",
    "print(\"выбор 5 элементов без возвращения:\", rng.choice(arr, size=5, replace=False))\n",
    "print(\"выбор с весами:\", rng.choice(arr, size=5, p=np.repeat(0.1, 10)))\n",
    "\n",
    "# Простая симуляция: 100 бросков игрального кубика\n",
    "dice = rng.integers(1, 7, size=100)\n",
    "print(\"среднее значение кубика:\", dice.mean())"
   ]
  },
  {
   "cell_type": "markdown",
   "metadata": {
    "id": "Nq5j-E8h-Wg6"
   },
   "source": [
    "9. Линейная алгебра"
   ]
  },
  {
   "cell_type": "code",
   "execution_count": 87,
   "metadata": {
    "colab": {
     "base_uri": "https://localhost:8080/"
    },
    "id": "5jtyNnpk-NU2",
    "outputId": "6d1d9e75-5208-410f-91f5-8927b88da6d5"
   },
   "outputs": [
    {
     "name": "stdout",
     "output_type": "stream",
     "text": [
      "A:\n",
      " [[-0.461 -1.436  1.365]\n",
      " [ 0.439 -0.712  0.297]\n",
      " [-0.438 -0.212  0.364]]\n",
      "x: [0.953 1.52  1.704]\n",
      "A @ x: [-0.295 -0.157 -0.119]\n"
     ]
    }
   ],
   "source": [
    "# Вектор-матрица-умножение\n",
    "A = rng.normal(size=(3, 3))\n",
    "x = rng.normal(size=3)\n",
    "y = A @ x  # эквивалент np.dot(A, x)\n",
    "print(\"A:\\n\", A)\n",
    "print(\"x:\", x)\n",
    "print(\"A @ x:\", y)"
   ]
  },
  {
   "cell_type": "code",
   "execution_count": 88,
   "metadata": {
    "colab": {
     "base_uri": "https://localhost:8080/"
    },
    "id": "5jtyNnpk-NU2",
    "outputId": "6d1d9e75-5208-410f-91f5-8927b88da6d5"
   },
   "outputs": [
    {
     "name": "stdout",
     "output_type": "stream",
     "text": [
      "Решение: [0.301 1.524 1.522] Остаток: 1.7772239894833365e-16\n"
     ]
    }
   ],
   "source": [
    "# Решение линейной системы A x = b\n",
    "b = rng.normal(size=3)\n",
    "sol = np.linalg.solve(A, b)\n",
    "residual = np.linalg.norm(A @ sol - b)\n",
    "print(\"Решение:\", sol, \"Остаток:\", residual)"
   ]
  },
  {
   "cell_type": "code",
   "execution_count": 89,
   "metadata": {
    "colab": {
     "base_uri": "https://localhost:8080/"
    },
    "id": "5jtyNnpk-NU2",
    "outputId": "6d1d9e75-5208-410f-91f5-8927b88da6d5"
   },
   "outputs": [
    {
     "name": "stdout",
     "output_type": "stream",
     "text": [
      "Собственные значения: [-0.384+1.007j -0.384-1.007j -0.039+0.j   ]\n"
     ]
    }
   ],
   "source": [
    "# Собственные значения (для квадратной матрицы)\n",
    "w, V = np.linalg.eig(A)\n",
    "print(\"Собственные значения:\", w)"
   ]
  },
  {
   "cell_type": "code",
   "execution_count": 90,
   "metadata": {
    "colab": {
     "base_uri": "https://localhost:8080/"
    },
    "id": "5jtyNnpk-NU2",
    "outputId": "6d1d9e75-5208-410f-91f5-8927b88da6d5"
   },
   "outputs": [
    {
     "name": "stdout",
     "output_type": "stream",
     "text": [
      "||x||_2: 2.4739446866348005 ||A||_F: 2.301222789081471\n"
     ]
    }
   ],
   "source": [
    "# Нормы\n",
    "print(\"||x||_2:\", np.linalg.norm(x), \"||A||_F:\", np.linalg.norm(A, 'fro'))"
   ]
  },
  {
   "cell_type": "markdown",
   "metadata": {
    "id": "393XJPax-TXK"
   },
   "source": [
    "10. Сортировка, argsort и top-k"
   ]
  },
  {
   "cell_type": "code",
   "execution_count": 91,
   "metadata": {
    "colab": {
     "base_uri": "https://localhost:8080/"
    },
    "id": "QgNk0cCV-cXX",
    "outputId": "5ff1bafe-c707-40a3-bb23-339a8cf7ecd2"
   },
   "outputs": [
    {
     "name": "stdout",
     "output_type": "stream",
     "text": [
      "S: [88 75 95  7 17 48 85 30 29 84  0 95]\n",
      "отсортировано: [ 0  7 17 29 30 48 75 84 85 88 95 95]\n",
      "индексы сортировки: [10  3  4  8  7  5  1  9  6  0  2 11]\n"
     ]
    }
   ],
   "source": [
    "S = rng.integers(0, 100, size=12)\n",
    "print(\"S:\", S)\n",
    "print(\"отсортировано:\", np.sort(S))\n",
    "print(\"индексы сортировки:\", np.argsort(S))"
   ]
  },
  {
   "cell_type": "code",
   "execution_count": 92,
   "metadata": {
    "colab": {
     "base_uri": "https://localhost:8080/"
    },
    "id": "QgNk0cCV-cXX",
    "outputId": "5ff1bafe-c707-40a3-bb23-339a8cf7ecd2"
   },
   "outputs": [
    {
     "name": "stdout",
     "output_type": "stream",
     "text": [
      "top-3 значения: [95 95 88] индексы: [11  2  0]\n"
     ]
    }
   ],
   "source": [
    "# Быстрый top-k (порядок внутри k не гарантирован)\n",
    "k = 3\n",
    "idx_topk = np.argpartition(S, -k)[-k:]\n",
    "topk_values = S[idx_topk]\n",
    "# Если нужно отсортировать убыванием:\n",
    "topk_sorted_idx = idx_topk[np.argsort(S[idx_topk])[::-1]]\n",
    "print(\"top-3 значения:\", S[topk_sorted_idx], \"индексы:\", topk_sorted_idx)"
   ]
  },
  {
   "cell_type": "markdown",
   "metadata": {
    "id": "rSsf14HQ-jYA"
   },
   "source": [
    "11. Ввод/вывод"
   ]
  },
  {
   "cell_type": "code",
   "execution_count": 93,
   "metadata": {
    "colab": {
     "base_uri": "https://localhost:8080/"
    },
    "id": "o0UO7S5b-iGl",
    "outputId": "e8412fd4-7602-4814-a736-a33a99f29cca"
   },
   "outputs": [
    {
     "name": "stdout",
     "output_type": "stream",
     "text": [
      "Загрузка .npy эквивалентна исходным данным: True\n"
     ]
    }
   ],
   "source": [
    "data = rng.normal(size=(3, 4))\n",
    "np.save(\"data.npy\", data)          # бинарный формат .npy\n",
    "loaded = np.load(\"data.npy\")\n",
    "print(\"Загрузка .npy эквивалентна исходным данным:\", np.allclose(data, loaded))"
   ]
  },
  {
   "cell_type": "code",
   "execution_count": 94,
   "metadata": {
    "colab": {
     "base_uri": "https://localhost:8080/"
    },
    "id": "o0UO7S5b-iGl",
    "outputId": "e8412fd4-7602-4814-a736-a33a99f29cca"
   },
   "outputs": [
    {
     "name": "stdout",
     "output_type": "stream",
     "text": [
      "Ключи в npz: ['a', 'b']\n",
      "pack['b']:\n",
      " [[-1.296 -0.567 -1.99  -0.546]\n",
      " [ 0.845 -0.163  2.469  0.302]\n",
      " [ 0.962 -0.298  2.631 -2.445]]\n"
     ]
    }
   ],
   "source": [
    "# Несколько массивов в одном файле\n",
    "np.savez(\"pack.npz\", a=data, b=data*2)\n",
    "pack = np.load(\"pack.npz\")\n",
    "print(\"Ключи в npz:\", list(pack.keys()))\n",
    "print(\"pack['b']:\\n\", pack[\"b\"])"
   ]
  },
  {
   "cell_type": "code",
   "execution_count": 95,
   "metadata": {
    "colab": {
     "base_uri": "https://localhost:8080/"
    },
    "id": "o0UO7S5b-iGl",
    "outputId": "e8412fd4-7602-4814-a736-a33a99f29cca"
   },
   "outputs": [
    {
     "name": "stdout",
     "output_type": "stream",
     "text": [
      "Сравнение с текстом: False\n"
     ]
    }
   ],
   "source": [
    "# Текстовые файлы (внимание на скорость/точность)\n",
    "np.savetxt(\"data.txt\", data, fmt=\"%.5f\")\n",
    "loaded_txt = np.loadtxt(\"data.txt\")\n",
    "print(\"Сравнение с текстом:\", np.allclose(data, loaded_txt))"
   ]
  },
  {
   "cell_type": "markdown",
   "metadata": {
    "id": "ej9PW-fr-3zj"
   },
   "source": [
    "12. Производительность: векторизация vs Python-цикл\n"
   ]
  },
  {
   "cell_type": "code",
   "execution_count": 96,
   "metadata": {
    "colab": {
     "base_uri": "https://localhost:8080/"
    },
    "id": "k_VHgNmI-eOc",
    "outputId": "1ac58133-00b2-42cf-8741-9fce3ddf310e"
   },
   "outputs": [
    {
     "name": "stdout",
     "output_type": "stream",
     "text": [
      "Проверка равенства: True\n"
     ]
    }
   ],
   "source": [
    "# Задача: посчитать y = x^2 + 2x + 1 для 10 млн элементов\n",
    "N = 1_000_000\n",
    "x = rng.random(N)\n",
    "\n",
    "# Векторизованный вариант\n",
    "def poly_vec(x):\n",
    "    return x*x + 2*x + 1\n",
    "\n",
    "# Невекторизованный (цикл Python) — медленно\n",
    "def poly_loop(x):\n",
    "    out = np.empty_like(x)\n",
    "    for i in range(x.size):\n",
    "        out[i] = x[i]*x[i] + 2*x[i] + 1\n",
    "    return out\n",
    "\n",
    "# В Jupyter можно использовать магию %%timeit\n",
    "# Здесь просто проверим корректность\n",
    "y_vec = poly_vec(x)\n",
    "y_loop = poly_loop(x)\n",
    "print(\"Проверка равенства:\", np.allclose(y_vec, y_loop))"
   ]
  },
  {
   "cell_type": "code",
   "execution_count": 97,
   "metadata": {
    "colab": {
     "base_uri": "https://localhost:8080/"
    },
    "id": "bL9jsfU5AJtQ",
    "outputId": "a5ebd9ba-c624-4838-f0f5-b2232e20739a"
   },
   "outputs": [
    {
     "name": "stdout",
     "output_type": "stream",
     "text": [
      "9.82 ms ± 155 µs per loop (mean ± std. dev. of 3 runs, 10 loops each)\n"
     ]
    }
   ],
   "source": [
    "%%timeit -n 10 -r 3\n",
    "_ = poly_vec(x)"
   ]
  },
  {
   "cell_type": "code",
   "execution_count": 98,
   "metadata": {
    "colab": {
     "base_uri": "https://localhost:8080/"
    },
    "id": "-UvEmg3iANZo",
    "outputId": "54c65039-4c84-47d6-ec7c-1fa50444eca4"
   },
   "outputs": [
    {
     "name": "stdout",
     "output_type": "stream",
     "text": [
      "592 ms ± 6.43 ms per loop (mean ± std. dev. of 3 runs, 1 loop each)\n"
     ]
    }
   ],
   "source": [
    "%%timeit -n 1 -r 3\n",
    "_ = poly_loop(x)"
   ]
  },
  {
   "cell_type": "markdown",
   "metadata": {},
   "source": [
    "## Задания для самостоятельной работы (10 задач с ростом сложности)\n",
    "\n",
    "1. Базовые конструкторы, reshape и индексация\n",
    "\n",
    "Создайте массив от 0 до 15 включительно.\\\n",
    "Преобразуйте его в матрицу 4x4.\\\n",
    "Поменяйте местами 2-ю и 4-ю строки, затем 1-й и 3-й столбцы (без циклов)."
   ]
  },
  {
   "cell_type": "code",
   "execution_count": 6,
   "metadata": {},
   "outputs": [
    {
     "data": {
      "text/plain": [
       "array([[ 0,  1,  2,  3],\n",
       "       [ 4,  5,  6,  7],\n",
       "       [ 8,  9, 10, 11],\n",
       "       [12, 13, 14, 15]])"
      ]
     },
     "execution_count": 6,
     "metadata": {},
     "output_type": "execute_result"
    }
   ],
   "source": [
    "array_1 = np.arange(0, 16)\n",
    "array_1 = array_1.reshape(4, 4)\n",
    "array_1"
   ]
  },
  {
   "cell_type": "code",
   "execution_count": 7,
   "metadata": {},
   "outputs": [
    {
     "name": "stdout",
     "output_type": "stream",
     "text": [
      "\n",
      "Матрица после смены 2-й и 4-й строк:\n",
      "[[ 0  1  2  3]\n",
      " [12 13 14 15]\n",
      " [ 8  9 10 11]\n",
      " [ 4  5  6  7]]\n",
      "\n",
      "Матрица после смены 1-го и 3-го столбцов:\n",
      "[[ 2  1  0  3]\n",
      " [14 13 12 15]\n",
      " [10  9  8 11]\n",
      " [ 6  5  4  7]]\n"
     ]
    }
   ],
   "source": [
    "# Меняем местами 2-ю и 4-ю строки (индексы 1 и 3)\n",
    "array_1[[1, 3]] = array_1[[3, 1]]\n",
    "print(\"\\nМатрица после смены 2-й и 4-й строк:\")\n",
    "print(array_1)\n",
    "\n",
    "# Меняем местами 1-й и 3-й столбцы (индексы 0 и 2)\n",
    "array_1[:, [0, 2]] = array_1[:, [2, 0]]\n",
    "print(\"\\nМатрица после смены 1-го и 3-го столбцов:\")\n",
    "print(array_1)"
   ]
  },
  {
   "cell_type": "markdown",
   "metadata": {},
   "source": [
    "2. Шахматная доска\n",
    "\n",
    "Создайте массив 8x8 со значениями 0 и 1 в шахматном порядке.\\\n",
    "Верхний левый элемент должен быть 1."
   ]
  },
  {
   "cell_type": "code",
   "execution_count": 8,
   "metadata": {},
   "outputs": [
    {
     "data": {
      "text/plain": [
       "array([[1., 0., 1., 0., 1., 0., 1., 0.],\n",
       "       [0., 1., 0., 1., 0., 1., 0., 1.],\n",
       "       [1., 0., 1., 0., 1., 0., 1., 0.],\n",
       "       [0., 1., 0., 1., 0., 1., 0., 1.],\n",
       "       [1., 0., 1., 0., 1., 0., 1., 0.],\n",
       "       [0., 1., 0., 1., 0., 1., 0., 1.],\n",
       "       [1., 0., 1., 0., 1., 0., 1., 0.],\n",
       "       [0., 1., 0., 1., 0., 1., 0., 1.]])"
      ]
     },
     "execution_count": 8,
     "metadata": {},
     "output_type": "execute_result"
    }
   ],
   "source": [
    "array_2 = np.zeros((8, 8))\n",
    "for i in range(64):\n",
    "    row = i // 8\n",
    "    col = i % 8\n",
    "    if (row + col) % 2 == 0:\n",
    "        array_2[row, col] = 1\n",
    "\n",
    "array_2"
   ]
  },
  {
   "cell_type": "markdown",
   "metadata": {},
   "source": [
    "3. Булева маска и замена\n",
    "\n",
    "Дан a = np.arange(1, 101).\\\n",
    "Получите массив квадратов только для элементов, кратных 3 или 5, а остальные замените на -1 (используйте np.where или маски)."
   ]
  },
  {
   "cell_type": "code",
   "execution_count": 11,
   "metadata": {},
   "outputs": [
    {
     "data": {
      "text/plain": [
       "array([   -1,    -1,     9,    -1,    25,    36,    -1,    -1,    81,\n",
       "         100,    -1,   144,    -1,    -1,   225,    -1,    -1,   324,\n",
       "          -1,   400,   441,    -1,    -1,   576,   625,    -1,   729,\n",
       "          -1,    -1,   900,    -1,    -1,  1089,    -1,  1225,  1296,\n",
       "          -1,    -1,  1521,  1600,    -1,  1764,    -1,    -1,  2025,\n",
       "          -1,    -1,  2304,    -1,  2500,  2601,    -1,    -1,  2916,\n",
       "        3025,    -1,  3249,    -1,    -1,  3600,    -1,    -1,  3969,\n",
       "          -1,  4225,  4356,    -1,    -1,  4761,  4900,    -1,  5184,\n",
       "          -1,    -1,  5625,    -1,    -1,  6084,    -1,  6400,  6561,\n",
       "          -1,    -1,  7056,  7225,    -1,  7569,    -1,    -1,  8100,\n",
       "          -1,    -1,  8649,    -1,  9025,  9216,    -1,    -1,  9801,\n",
       "       10000])"
      ]
     },
     "execution_count": 11,
     "metadata": {},
     "output_type": "execute_result"
    }
   ],
   "source": [
    "a = np.arange(1, 101)\n",
    "a_new = a.copy()\n",
    "\n",
    "a_new = np.where((a_new % 5 == 0) | (a_new % 3 == 0), a_new * a_new, -1)\n",
    "a_new"
   ]
  },
  {
   "cell_type": "markdown",
   "metadata": {},
   "source": [
    "4. Объединение и разбиение\n",
    "\n",
    "Сгенерируйте два массива X1 и X2 размерностями (5, 3) из N(0,1).\\\n",
    "Склейте их по вертикали, затем разделите обратно на две части без копирования данных, если это возможно.\\\n",
    "Подсказка: обратите внимание на то, какие операции создают представления (view), а какие — копии."
   ]
  },
  {
   "cell_type": "code",
   "execution_count": 14,
   "metadata": {},
   "outputs": [
    {
     "data": {
      "text/plain": [
       "array([0.879, 0.778, 0.066, 1.127, 0.468])"
      ]
     },
     "execution_count": 14,
     "metadata": {},
     "output_type": "execute_result"
    }
   ],
   "source": [
    "X1 = rng.normal(loc=0, scale=1, size=5)\n",
    "X2 = rng.normal(loc=0, scale=1, size=5)\n",
    " \n",
    "X1"
   ]
  },
  {
   "cell_type": "code",
   "execution_count": 15,
   "metadata": {},
   "outputs": [
    {
     "data": {
      "text/plain": [
       "array([ 0.879,  0.778,  0.066,  1.127,  0.468, -0.859,  0.369, -0.959,\n",
       "        0.878, -0.05 ])"
      ]
     },
     "execution_count": 15,
     "metadata": {},
     "output_type": "execute_result"
    }
   ],
   "source": [
    "result = np.concatenate([X1, X2], axis=0)\n",
    "result"
   ]
  },
  {
   "cell_type": "code",
   "execution_count": 16,
   "metadata": {},
   "outputs": [
    {
     "data": {
      "text/plain": [
       "array([0.879, 0.778, 0.066, 1.127, 0.468])"
      ]
     },
     "execution_count": 16,
     "metadata": {},
     "output_type": "execute_result"
    }
   ],
   "source": [
    "X1_new, X2_new = np.array_split(result, 2)\n",
    "X1_new"
   ]
  },
  {
   "cell_type": "markdown",
   "metadata": {},
   "source": [
    "5. Нормализация по столбцам (broadcasting)\n",
    "\n",
    "Сгенерируйте матрицу X (100 x 3) из N(0, 5).\\\n",
    "Приведите каждый столбец к нулевому среднему и единичному стандартному отклонению.\\\n",
    "Проверьте, что среднее каждой колонки ~ 0 и std ~ 1."
   ]
  },
  {
   "cell_type": "code",
   "execution_count": 17,
   "metadata": {},
   "outputs": [
    {
     "data": {
      "text/plain": [
       "array([[-0.128, -0.746,  1.261],\n",
       "       [-0.095, -0.476, -0.361],\n",
       "       [ 0.658,  0.372,  0.427],\n",
       "       [ 0.547,  2.269, -0.417],\n",
       "       [-0.487, -0.887,  0.636],\n",
       "       [ 1.312, -0.14 , -0.864],\n",
       "       [-0.829,  0.677,  0.767],\n",
       "       [ 0.67 , -0.729,  0.241],\n",
       "       [ 0.202,  0.215,  0.899],\n",
       "       [ 0.32 ,  0.707,  0.071],\n",
       "       [ 0.391,  0.656, -1.499],\n",
       "       [-0.276, -0.521, -0.656],\n",
       "       [-0.227,  1.579, -0.89 ],\n",
       "       [ 1.135, -1.816, -0.343],\n",
       "       [ 0.253,  0.608,  0.734],\n",
       "       [ 0.944, -0.391, -0.475],\n",
       "       [ 1.015, -0.223, -1.312],\n",
       "       [-1.167, -1.   ,  0.514],\n",
       "       [ 0.231,  0.719, -0.438],\n",
       "       [ 0.248,  0.65 , -0.317],\n",
       "       [ 0.575, -0.725, -0.372],\n",
       "       [-0.344, -1.296,  0.503],\n",
       "       [-0.44 , -0.005,  0.497],\n",
       "       [ 0.564,  0.692, -0.1  ],\n",
       "       [-0.389, -0.103, -1.736],\n",
       "       [-1.511, -1.431, -1.025],\n",
       "       [ 0.513, -0.985, -0.388],\n",
       "       [ 1.498, -0.399,  0.761],\n",
       "       [-0.948, -0.238, -0.977],\n",
       "       [-0.297,  0.879, -1.777],\n",
       "       [ 0.551,  0.236, -0.61 ],\n",
       "       [-1.51 ,  0.059, -0.544],\n",
       "       [ 0.33 ,  0.005,  1.651],\n",
       "       [-0.188, -1.111,  0.186],\n",
       "       [ 0.316,  1.434,  0.862],\n",
       "       [ 0.466,  1.545, -1.223],\n",
       "       [-0.626, -1.008, -0.4  ],\n",
       "       [-1.434,  0.66 , -0.227],\n",
       "       [-1.537, -1.103,  0.324],\n",
       "       [ 0.993,  2.115,  3.002],\n",
       "       [ 0.529, -1.075, -2.194],\n",
       "       [ 0.368, -0.887, -0.426],\n",
       "       [-0.596, -0.169,  1.099],\n",
       "       [ 0.247, -0.188, -1.065],\n",
       "       [-1.76 , -0.538, -0.054],\n",
       "       [ 2.012,  0.121,  1.014],\n",
       "       [-0.472, -1.284, -0.992],\n",
       "       [-0.72 ,  2.255, -0.844],\n",
       "       [ 0.993, -0.983,  0.961],\n",
       "       [ 0.496, -0.186, -0.04 ],\n",
       "       [-0.643,  0.458, -0.467],\n",
       "       [-1.268, -1.383,  0.179],\n",
       "       [ 1.805,  0.153, -0.121],\n",
       "       [ 0.388,  1.377,  0.228],\n",
       "       [-0.376,  1.163,  0.443],\n",
       "       [ 1.757,  0.177, -1.259],\n",
       "       [-1.424,  1.745,  1.777],\n",
       "       [-0.122, -0.428,  1.507],\n",
       "       [-1.138, -0.974,  0.664],\n",
       "       [-0.358, -0.024, -0.167],\n",
       "       [ 0.444,  1.485,  0.095],\n",
       "       [ 0.78 , -2.208, -0.049],\n",
       "       [-0.849, -1.32 , -0.903],\n",
       "       [-0.291,  0.96 , -1.364],\n",
       "       [ 0.108, -0.535, -0.336],\n",
       "       [ 1.173,  0.557,  1.379],\n",
       "       [-0.095, -0.762, -0.229],\n",
       "       [ 0.34 ,  0.17 , -1.115],\n",
       "       [ 0.174,  0.226,  2.594],\n",
       "       [ 2.131, -0.93 , -0.294],\n",
       "       [-1.529, -0.649,  0.327],\n",
       "       [ 1.396, -0.797, -0.672],\n",
       "       [-2.278, -0.192, -1.093],\n",
       "       [-0.505, -0.955, -0.095],\n",
       "       [-1.851, -1.585,  2.194],\n",
       "       [-1.336, -1.19 ,  1.893],\n",
       "       [ 3.257, -1.27 , -0.378],\n",
       "       [ 0.449,  1.828, -1.015],\n",
       "       [-0.194,  0.812,  0.449],\n",
       "       [-0.337, -0.161, -1.414],\n",
       "       [-0.186, -0.303,  0.241],\n",
       "       [-0.534,  0.485,  1.045],\n",
       "       [ 0.245,  0.357,  0.056],\n",
       "       [ 0.075, -0.789,  0.328],\n",
       "       [-0.032,  2.218,  1.622],\n",
       "       [ 0.497, -0.833, -1.144],\n",
       "       [ 1.38 ,  0.262,  0.496],\n",
       "       [-1.837,  0.972,  0.47 ],\n",
       "       [-1.142, -0.522,  0.273],\n",
       "       [ 0.132, -0.33 , -0.105],\n",
       "       [-0.201,  0.145,  1.517],\n",
       "       [-2.737, -0.271,  0.183],\n",
       "       [ 0.399, -0.416, -1.808],\n",
       "       [ 0.434,  1.827, -1.578],\n",
       "       [ 1.021, -0.369, -0.062],\n",
       "       [-1.079, -0.375,  1.34 ],\n",
       "       [ 0.713,  1.832,  1.214],\n",
       "       [ 0.556,  1.845,  0.454],\n",
       "       [ 0.982, -0.335,  0.07 ],\n",
       "       [-0.689,  1.039, -1.212]])"
      ]
     },
     "execution_count": 17,
     "metadata": {},
     "output_type": "execute_result"
    }
   ],
   "source": [
    "X = rng.normal(loc=0, scale=np.sqrt(5), size=(100, 3))\n",
    "X_standardized = (X - np.mean(X, axis=0)) / np.std(X, axis=0)\n",
    "X_standardized"
   ]
  },
  {
   "cell_type": "code",
   "execution_count": 18,
   "metadata": {},
   "outputs": [
    {
     "name": "stdout",
     "output_type": "stream",
     "text": [
      "Средние значения по столбцам (должны быть ~0):\n",
      "[-0. -0.  0.]\n",
      "\n",
      "Стандартные отклонения по столбцам (должны быть ~1):\n",
      "[1. 1. 1.]\n"
     ]
    }
   ],
   "source": [
    "means = np.mean(X_standardized, axis=0)\n",
    "stds = np.std(X_standardized, axis=0)\n",
    "\n",
    "print(\"Средние значения по столбцам (должны быть ~0):\")\n",
    "print(means)\n",
    "print(\"\\nСтандартные отклонения по столбцам (должны быть ~1):\")\n",
    "print(stds)"
   ]
  },
  {
   "cell_type": "markdown",
   "metadata": {},
   "source": [
    "6. Попарные расстояния (без циклов)\n",
    "\n",
    "Дан вектор v длины N. Постройте матрицу D (N x N), где D[i, j] = |v[i] - v[j]|, используя broadcasting (без явных Python-циклов).\\\n",
    "Дополнительно: то же для квадратов разностей."
   ]
  },
  {
   "cell_type": "code",
   "execution_count": 23,
   "metadata": {},
   "outputs": [],
   "source": [
    "N = int(input())\n",
    "v = np.arange(1, N+1)\n",
    "\n",
    "v_col = v.reshape(N, 1)  # Столбец (N x 1)\n",
    "v_row = v.reshape(1, N)  # Строка (1 x N)\n",
    "\n",
    "# Матрица абсолютных разностей: D[i, j] = |v[i] - v[j]|\n",
    "D_abs = np.abs(v_col - v_row)\n",
    "\n",
    "# Матрица квадратов разностей: D[i, j] = (v[i] - v[j]) ** 2\n",
    "D_sq = (v_col - v_row) ** 2"
   ]
  },
  {
   "cell_type": "code",
   "execution_count": 24,
   "metadata": {},
   "outputs": [
    {
     "name": "stdout",
     "output_type": "stream",
     "text": [
      "Вектор v:\n",
      "[1 2 3 4]\n",
      "\n",
      "Матрица абсолютных разностей D_abs:\n",
      "[[0 1 2 3]\n",
      " [1 0 1 2]\n",
      " [2 1 0 1]\n",
      " [3 2 1 0]]\n",
      "\n",
      "Матрица квадратов разностей D_sq:\n",
      "[[0 1 4 9]\n",
      " [1 0 1 4]\n",
      " [4 1 0 1]\n",
      " [9 4 1 0]]\n"
     ]
    }
   ],
   "source": [
    "print(\"Вектор v:\")\n",
    "print(v)\n",
    "print(\"\\nМатрица абсолютных разностей D_abs:\")\n",
    "print(D_abs)\n",
    "print(\"\\nМатрица квадратов разностей D_sq:\")\n",
    "print(D_sq)"
   ]
  },
  {
   "cell_type": "markdown",
   "metadata": {},
   "source": [
    "7. Монте-Карло оценка числа π\n",
    "\n",
    "Сгенерируйте N пар (x, y) из U(-1, 1).\\\n",
    "Оцените π как 4 * (доля точек внутри единичного круга).\\\n",
    "Исследуйте зависимость погрешности от N (напр., N = 10^3, 10^4, 10^5)"
   ]
  },
  {
   "cell_type": "code",
   "execution_count": 27,
   "metadata": {},
   "outputs": [
    {
     "name": "stdout",
     "output_type": "stream",
     "text": [
      "{1000: {'pi_estimate': np.float64(3.168), 'error': np.float64(0.026407346410207033)}, 10000: {'pi_estimate': np.float64(3.1328), 'error': np.float64(0.008792653589793087)}, 100000: {'pi_estimate': np.float64(3.15112), 'error': np.float64(0.009527346410207027)}}\n"
     ]
    }
   ],
   "source": [
    "# Значения N для исследования\n",
    "Ns = [10**3, 10**4, 10**5]\n",
    "\n",
    "results = {}\n",
    "\n",
    "for N in Ns:\n",
    "    # Генерация N пар (x, y) из U(-1, 1)\n",
    "    x = np.random.uniform(-1, 1, N)\n",
    "    y = np.random.uniform(-1, 1, N)\n",
    "    \n",
    "    # Проверка точек внутри круга\n",
    "    inside = (x**2 + y**2) <= 1\n",
    "    count_inside = np.sum(inside)\n",
    "    \n",
    "    # Оценка π\n",
    "    pi_est = 4 * (count_inside / N)\n",
    "    \n",
    "    # Погрешность\n",
    "    error = np.abs(pi_est - np.pi)\n",
    "    \n",
    "    results[N] = {'pi_estimate': pi_est, 'error': error}\n",
    "\n",
    "# Вывод результатов\n",
    "print(results)"
   ]
  },
  {
   "cell_type": "markdown",
   "metadata": {},
   "source": [
    "8. Топ-частоты значений\n",
    "\n",
    "Сгенерируйте массив целых чисел длины 100000 из диапазона [0, 999].\\\n",
    "Найдите 5 самых частых значений и их частоты (используйте np.unique(return_counts=True) и argsort/argpartition).\\\n",
    "Верните значения, частоты и долю этих значений от общего числа."
   ]
  },
  {
   "cell_type": "code",
   "execution_count": 34,
   "metadata": {},
   "outputs": [],
   "source": [
    "array_8 = rng.integers(0, 999, size=100000)"
   ]
  },
  {
   "cell_type": "code",
   "execution_count": 35,
   "metadata": {},
   "outputs": [
    {
     "name": "stdout",
     "output_type": "stream",
     "text": [
      "5 самых частых значений: [970  34 662 453 264]\n",
      "Их частоты: [133 132 129 128 128]\n",
      "Доля частых значений от всех чисел в массиве: [0.001 0.001 0.001 0.001 0.001]\n"
     ]
    }
   ],
   "source": [
    "# Создать уникальный массив и подсчитать массив\n",
    "\n",
    "unique_array,count_array = np.unique(array_8, return_counts = True)\n",
    "\n",
    "# Распечатать значения уникального массива и обратного массива\n",
    "top_indices = np.argsort(count_array)[-5:][::-1]\n",
    "top_values = unique_array[top_indices]\n",
    "top_counts = count_array[top_indices]\n",
    "\n",
    "# Доля частых значений от всех чисел в массиве\n",
    "print(\"5 самых частых значений:\", top_values)\n",
    "print(\"Их частоты:\", top_counts)\n",
    "print(\"Доля частых значений от всех чисел в массиве:\", top_counts / array_8.size)"
   ]
  },
  {
   "cell_type": "markdown",
   "metadata": {},
   "source": [
    "9. Работа с пропусками\n",
    "\n",
    "Сгенерируйте матрицу X (200 x 5) из N(0,1). С вероятностью 10% замените элементы на NaN.\\\n",
    "Замените NaN средним по соответствующему столбцу (без циклов).\\\n",
    "Проверьте, что NaN больше не осталось, и что средние по столбцам не изменились для строк без NaN."
   ]
  },
  {
   "cell_type": "code",
   "execution_count": 37,
   "metadata": {},
   "outputs": [
    {
     "data": {
      "text/plain": [
       "array([[ 1.623,    nan, -1.239,  1.876,  2.186],\n",
       "       [ 0.478,  0.137, -0.062, -0.219, -1.248],\n",
       "       [ 0.827, -0.943,  0.653,    nan,  1.095],\n",
       "       [-0.686, -1.276, -1.012, -0.022, -0.155],\n",
       "       [-1.282, -0.533,  0.079,    nan, -0.023],\n",
       "       [ 0.702,  0.042,  0.048,  0.5  , -1.192],\n",
       "       [ 1.887,    nan, -0.088,  0.249,  1.139],\n",
       "       [ 0.416,  0.637,  0.089, -1.081, -2.596],\n",
       "       [ 0.83 ,  1.009, -1.198, -1.317, -1.171],\n",
       "       [-0.641, -0.955,  0.076,  0.109,    nan],\n",
       "       [-0.589, -0.978, -1.552, -0.65 ,    nan],\n",
       "       [-1.702, -0.151, -1.14 , -1.383,  0.885],\n",
       "       [ 1.152,  0.42 ,    nan,  0.758,  0.666],\n",
       "       [ 1.923, -0.608,  0.302,    nan, -1.973],\n",
       "       [-1.905, -0.013, -0.812,  0.451,  0.578],\n",
       "       [   nan, -1.616, -1.051,  0.172,  0.273],\n",
       "       [ 0.287,  0.803, -0.304,  0.147,  0.495],\n",
       "       [ 0.905,    nan, -0.111,  0.245, -0.016],\n",
       "       [-0.335, -0.697, -1.781,  0.472,  0.402],\n",
       "       [ 0.201,  0.348, -0.228,  1.809,    nan],\n",
       "       [   nan, -0.721, -0.117, -0.117,  1.391],\n",
       "       [-2.126,  0.557,  0.159,  1.045, -0.559],\n",
       "       [-1.737,  1.893, -0.011,  0.956, -0.307],\n",
       "       [ 1.139,  0.775,  1.223, -0.328,  1.355],\n",
       "       [ 0.53 ,    nan,  1.367,  0.582, -0.294],\n",
       "       [   nan, -1.002,  0.153,  0.558,  0.119],\n",
       "       [ 0.235, -0.542, -0.917,  0.037,  0.263],\n",
       "       [-0.407,  0.477,  0.868,  0.978, -0.484],\n",
       "       [-1.658,  0.436, -0.284,  0.027, -0.48 ],\n",
       "       [ 1.637, -0.414,  1.875,  0.782,  1.054],\n",
       "       [-0.128, -0.83 ,    nan,  0.346, -0.502],\n",
       "       [   nan,  0.59 , -1.72 ,  0.621,  0.966],\n",
       "       [-1.521,  1.956,  1.403, -1.717, -0.358],\n",
       "       [-0.893, -1.186,  0.315,  0.15 , -0.909],\n",
       "       [   nan,  0.012,  0.412, -0.825,  0.07 ],\n",
       "       [ 0.553,  0.917,  0.295,  0.16 , -0.239],\n",
       "       [-0.408,  0.179,  0.096,  0.414, -0.764],\n",
       "       [ 0.641, -1.519,  0.683,    nan, -1.131],\n",
       "       [-1.124,  0.55 ,    nan,  0.207,    nan],\n",
       "       [-0.406,  0.12 ,    nan, -0.763, -1.678],\n",
       "       [-0.702,  0.153,  0.827, -1.999, -0.503],\n",
       "       [ 0.211,  0.12 ,  0.051, -0.528, -0.781],\n",
       "       [ 0.445,  0.226, -0.078,  1.997,  1.214],\n",
       "       [ 0.49 ,  0.923,  0.646, -0.275, -1.114],\n",
       "       [ 0.964, -0.015,  0.9  ,  0.818, -1.501],\n",
       "       [ 0.628,  1.734, -0.178,  0.348,  1.041],\n",
       "       [-1.463, -2.035, -0.154, -1.565,  1.347],\n",
       "       [ 0.862,  1.302, -0.044,  1.122,  0.094],\n",
       "       [ 0.401,  2.144, -1.254,  1.738, -1.877],\n",
       "       [-0.015,  0.561, -0.492,  0.287,  0.37 ],\n",
       "       [ 0.621, -0.199, -0.678,  0.189, -0.321],\n",
       "       [ 0.029,    nan,  0.201, -0.605, -0.478],\n",
       "       [-1.109,  0.157, -0.899,  0.31 ,  1.019],\n",
       "       [ 1.567, -0.11 ,  2.773,  0.617,  0.128],\n",
       "       [ 1.942, -0.882, -0.015, -0.297, -1.291],\n",
       "       [   nan,  0.295,  0.668,  0.652, -1.691],\n",
       "       [ 1.195, -0.75 ,  0.978, -1.25 ,    nan],\n",
       "       [-0.627,  0.228, -0.154,  0.291, -0.224],\n",
       "       [-0.477,  1.253,  1.252,  1.904,  0.054],\n",
       "       [-0.077,  0.109, -0.646, -1.195, -0.499],\n",
       "       [-0.694,  0.604,    nan, -1.912,    nan],\n",
       "       [ 0.436,  0.19 , -0.162, -0.191,  0.386],\n",
       "       [   nan, -1.26 , -1.743, -0.041,  0.773],\n",
       "       [-0.4  ,  2.219,  0.869, -0.426, -1.689],\n",
       "       [ 0.773, -0.797, -0.535, -0.729, -1.236],\n",
       "       [-0.494, -0.506, -0.813, -0.608,  1.81 ],\n",
       "       [ 0.739,    nan, -1.701,  0.543,    nan],\n",
       "       [   nan, -0.134,  0.347, -1.107,    nan],\n",
       "       [ 0.687,  0.506,  1.176,  0.659, -1.633],\n",
       "       [-0.382,  0.995, -1.632,    nan, -0.425],\n",
       "       [-1.238,  0.941, -0.785,    nan, -0.214],\n",
       "       [ 1.075,  1.678,  0.329,  0.084,  0.768],\n",
       "       [ 1.656,  0.326, -0.7  , -1.44 ,  0.345],\n",
       "       [-1.008,  0.926,  1.262,  0.583, -0.058],\n",
       "       [ 0.617,  0.028, -0.261, -0.437,  0.117],\n",
       "       [ 0.019,  1.245,  0.574, -1.322,  0.501],\n",
       "       [ 0.097,  0.287, -0.244,    nan,  1.651],\n",
       "       [-0.362, -0.632, -0.696, -1.063,  0.606],\n",
       "       [ 1.179, -0.591,  0.534,  1.04 ,    nan],\n",
       "       [ 0.021, -0.655,  0.624, -0.236,  0.602],\n",
       "       [-0.511,  0.325,  1.09 ,  0.484,    nan],\n",
       "       [-1.095,    nan,  1.389,    nan,  1.978],\n",
       "       [ 2.741, -0.1  ,    nan,    nan, -0.543],\n",
       "       [ 0.442,  0.255, -0.047, -0.351,  0.137],\n",
       "       [-0.366, -0.137, -1.103, -0.81 , -0.537],\n",
       "       [ 0.201,  0.081,    nan, -0.5  ,  0.21 ],\n",
       "       [   nan, -0.954,    nan, -1.362, -1.039],\n",
       "       [   nan,    nan,  1.495, -1.158, -0.964],\n",
       "       [-1.051, -1.309,  1.398,  1.202, -1.391],\n",
       "       [ 1.575, -1.223,  2.965, -0.145, -0.598],\n",
       "       [ 0.501, -0.877, -1.411, -0.434,  0.084],\n",
       "       [-2.16 , -0.894,  1.955, -0.007, -2.395],\n",
       "       [   nan,  0.36 , -0.016,  0.787, -0.288],\n",
       "       [ 1.018, -0.012,  0.117,  0.348,  0.697],\n",
       "       [ 0.357,    nan,    nan, -0.783, -0.868],\n",
       "       [-1.945, -0.254, -0.498,  0.068, -0.829],\n",
       "       [ 1.65 , -0.587, -0.587, -0.071,  0.374],\n",
       "       [ 1.21 ,  0.525,  0.508,  0.119, -0.819],\n",
       "       [-0.617, -2.218, -0.313,  0.64 ,    nan],\n",
       "       [ 0.433,  1.9  ,  0.106,  0.574,  0.117],\n",
       "       [-0.818, -0.213, -1.089,  0.848,  0.929],\n",
       "       [-0.093,  1.77 , -0.226,  0.873, -0.247],\n",
       "       [ 0.447,    nan, -0.495,    nan,  0.85 ],\n",
       "       [ 0.047,  1.366, -0.362, -0.926,  1.87 ],\n",
       "       [-1.517, -0.735, -0.008, -0.294,  0.126],\n",
       "       [ 0.098,  2.196, -0.239,  0.36 ,  0.052],\n",
       "       [   nan, -1.2  , -2.213, -1.119, -0.2  ],\n",
       "       [ 0.832,    nan,  2.486,  0.056, -0.   ],\n",
       "       [   nan, -1.034,  0.775,  1.898,  1.363],\n",
       "       [-0.648, -1.189, -1.85 , -0.115,  1.919],\n",
       "       [-0.548, -0.67 , -0.289, -0.314,  0.043],\n",
       "       [-2.557, -1.027, -0.429,  0.232, -0.609],\n",
       "       [ 0.173, -0.666,  0.803,  0.283,  0.153],\n",
       "       [ 0.776,  0.548, -0.6  , -0.838,  1.32 ],\n",
       "       [ 1.924,  1.153,  1.127, -1.039, -0.174],\n",
       "       [-0.303, -0.338, -0.815,  0.336,  0.348],\n",
       "       [-0.919, -0.746,  0.193,    nan, -0.608],\n",
       "       [-0.208, -1.318,  0.662, -0.4  , -0.434],\n",
       "       [ 0.474,  1.045,  0.002, -0.628,  0.399],\n",
       "       [ 0.058,  0.312,  0.808, -0.177,  1.021],\n",
       "       [-0.579,    nan,  0.895,  0.441, -0.159],\n",
       "       [-0.016, -0.299, -0.201, -1.232, -0.775],\n",
       "       [-0.154, -1.569, -2.159,    nan,  1.177],\n",
       "       [ 1.917,    nan, -0.177,    nan, -1.098],\n",
       "       [ 0.304,  0.311, -0.256, -1.858,  1.109],\n",
       "       [-0.574, -0.704, -1.512,  0.59 ,  0.367],\n",
       "       [ 0.54 , -0.459, -0.305,    nan,  0.235],\n",
       "       [   nan, -0.321, -1.242, -0.324, -1.486],\n",
       "       [-0.635, -0.83 , -0.242,  0.262, -0.167],\n",
       "       [-0.604, -0.271,  0.147,  0.421,  1.341],\n",
       "       [ 2.376,    nan, -0.009, -0.934, -0.369],\n",
       "       [ 0.2  , -0.423, -0.33 ,  0.645, -0.201],\n",
       "       [ 0.318, -0.226, -2.009, -2.01 ,  0.378],\n",
       "       [   nan,  0.14 ,  0.276,    nan, -0.052],\n",
       "       [ 1.278,  0.211,  0.238, -0.517, -1.158],\n",
       "       [ 2.168,  0.818,  0.248, -0.236,  0.621],\n",
       "       [-0.508,    nan,  1.494, -0.08 ,  1.549],\n",
       "       [-0.265, -1.781,  0.822, -0.101,  0.828],\n",
       "       [-1.121, -0.486,  1.343,  0.295,  1.497],\n",
       "       [   nan,    nan,  2.277,  0.754,  0.153],\n",
       "       [ 0.434,  1.045,  0.252, -0.347, -1.027],\n",
       "       [-2.171,    nan, -2.059, -0.152,  1.562],\n",
       "       [-0.071, -0.943, -0.512, -0.815,  1.701],\n",
       "       [-0.657, -1.787,  2.548, -0.19 , -0.88 ],\n",
       "       [ 0.009, -0.237,  0.469, -0.163,    nan],\n",
       "       [-0.179,  0.886,    nan,  0.728,  0.944],\n",
       "       [ 1.179, -1.037, -0.933,  0.022, -1.814],\n",
       "       [-1.08 ,  0.298, -2.085, -1.795,  0.51 ],\n",
       "       [-1.621,  2.691, -1.02 , -1.084, -1.42 ],\n",
       "       [-0.038, -0.22 ,  0.368, -0.27 ,    nan],\n",
       "       [   nan, -0.396,  0.206,    nan, -1.144],\n",
       "       [ 1.681, -1.804,  0.86 , -2.414, -1.636],\n",
       "       [-0.811,  0.398, -0.178,  0.362, -0.568],\n",
       "       [-0.197, -0.001,  0.914,    nan, -1.109],\n",
       "       [-0.194, -0.436,  0.279,  1.377,  0.07 ],\n",
       "       [-0.591,  1.008, -0.263, -0.169,    nan],\n",
       "       [-1.337, -1.401, -1.016, -0.296,  1.026],\n",
       "       [-0.679, -0.525,  0.17 , -0.94 , -0.479],\n",
       "       [-0.042,  0.566,    nan, -0.161, -0.298],\n",
       "       [-0.214,    nan,  1.468,    nan,  1.849],\n",
       "       [   nan, -1.022,  0.217, -0.365, -0.137],\n",
       "       [ 1.74 ,  1.329,  0.847,  2.616,  0.826],\n",
       "       [ 1.487,  0.556,  0.198,  2.031, -0.783],\n",
       "       [-1.612, -0.961, -0.457,  0.917,  1.258],\n",
       "       [-0.785, -0.607, -0.441,    nan,  0.006],\n",
       "       [ 0.366, -0.942, -1.071,    nan,  0.044],\n",
       "       [-1.22 , -0.901,  0.513,  1.47 ,  0.389],\n",
       "       [   nan,  0.692, -0.572,  1.403,  0.431],\n",
       "       [-0.849,  0.121, -1.401,  0.174, -0.266],\n",
       "       [ 2.101,  0.21 ,  0.06 , -2.387,  0.633],\n",
       "       [ 1.169,  1.176, -0.124, -0.616,  1.243],\n",
       "       [-0.087, -0.036, -0.331, -2.247, -0.821],\n",
       "       [ 0.098,  0.6  , -0.031,  0.539, -1.713],\n",
       "       [-0.955,  2.303,  0.707,  1.354, -0.272],\n",
       "       [   nan,  0.992,  2.156,  0.446, -1.046],\n",
       "       [-0.764,    nan, -2.607,  0.413,  0.562],\n",
       "       [ 1.481, -1.817, -1.11 ,  0.116, -0.043],\n",
       "       [ 0.02 ,  0.975,  0.347,  1.536,  1.204],\n",
       "       [-0.673,  0.302,  0.57 ,  1.904,  0.233],\n",
       "       [ 0.59 , -0.462,  0.552, -1.065, -0.649],\n",
       "       [ 1.275,  0.867,    nan,  2.27 ,    nan],\n",
       "       [ 0.256, -0.549,    nan,  0.026, -0.049],\n",
       "       [ 0.877, -0.873, -0.555,  0.367, -1.47 ],\n",
       "       [ 1.472,  0.87 ,  0.211, -1.017, -0.135],\n",
       "       [ 0.718, -0.625, -1.638,  0.471,  0.319],\n",
       "       [-0.482,  2.347,    nan,  1.395,  0.675],\n",
       "       [ 0.37 ,  2.331,  1.166, -0.658, -0.56 ],\n",
       "       [-0.755,    nan, -0.695, -2.096, -0.469],\n",
       "       [ 0.937,  1.378,  0.854,    nan,  1.075],\n",
       "       [ 1.974,  0.547,  0.062,  1.765,    nan],\n",
       "       [ 0.791,    nan, -0.353, -2.211,  0.788],\n",
       "       [-0.768,  0.687, -0.551, -0.468, -0.644],\n",
       "       [ 0.587,  0.369, -0.862, -0.057, -0.658],\n",
       "       [-0.444, -0.45 , -0.53 ,  0.722,  0.709],\n",
       "       [-1.542, -0.203,  2.639,  1.328,  2.214],\n",
       "       [   nan, -0.334, -0.811,    nan,  0.304],\n",
       "       [   nan, -0.414, -0.62 , -0.854, -0.122],\n",
       "       [ 0.649,  0.784,  1.313,  0.399,  0.827],\n",
       "       [-1.387,  1.06 ,  1.174,  1.815,  2.152],\n",
       "       [-1.108,  0.969, -0.309, -0.43 , -0.314]])"
      ]
     },
     "execution_count": 37,
     "metadata": {},
     "output_type": "execute_result"
    }
   ],
   "source": [
    "array_9 = rng.normal(loc=0, scale=1, size=(200, 5)) # N(0, 1)\n",
    "# С вероятностью 10% замените элементы на NaN\n",
    "mask = rng.random(array_9.shape) < 0.1\n",
    "array_9[mask] = np.nan\n",
    "\n",
    "array_9"
   ]
  },
  {
   "cell_type": "code",
   "execution_count": 38,
   "metadata": {},
   "outputs": [
    {
     "name": "stdout",
     "output_type": "stream",
     "text": [
      "Проверка на наличие NaN: False\n",
      "Средние по столбцам до заполнения NaN: [ 0.052  0.034 -0.004 -0.002  0.013]\n",
      "Средние по столбцам после заполнения NaN: [ 0.052  0.034 -0.004 -0.002  0.013]\n"
     ]
    }
   ],
   "source": [
    "col_means = np.nanmean(array_9, axis=0)\n",
    "array_9_filled = np.where(np.isnan(array_9), col_means, array_9)\n",
    "# Проверьте, что NaN больше не осталось, и что средние по столбцам не изменились для строк без NaN.\n",
    "print(\"Проверка на наличие NaN:\", np.isnan(array_9_filled).any())\n",
    "print(\"Средние по столбцам до заполнения NaN:\", np.nanmean(array_9, axis=0))\n",
    "print(\"Средние по столбцам после заполнения NaN:\", np.mean(array_9_filled, axis=0))"
   ]
  },
  {
   "cell_type": "markdown",
   "metadata": {},
   "source": [
    "10. PCA через SVD\n",
    "\n",
    "Сгенерируйте матрицу X (200 x 10) из N(0,1), центрируйте по столбцам.\\\n",
    "Выполните SVD: X = U S Vt.\\\n",
    "Оставьте первые k=2 компоненты, постройте приближение X2 = U[:, :2] @ diag(S[:2]) @ Vt[:2, :].\\\n",
    "Оцените долю объясненной дисперсии и среднеквадратичную ошибку между X и X2."
   ]
  },
  {
   "cell_type": "code",
   "execution_count": 39,
   "metadata": {},
   "outputs": [
    {
     "data": {
      "text/plain": [
       "array([[ 0.558, -0.11 , -0.594, ...,  0.544, -0.537,  0.345],\n",
       "       [-0.483,  0.096,  0.516, ..., -0.472,  0.466, -0.299],\n",
       "       [ 0.582, -0.023, -0.041, ...,  0.235, -0.021,  0.251],\n",
       "       ...,\n",
       "       [-0.098,  0.096,  0.592, ..., -0.375,  0.548, -0.151],\n",
       "       [-0.616,  0.01 , -0.049, ..., -0.196, -0.064, -0.249],\n",
       "       [ 0.109, -0.072, -0.435, ...,  0.289, -0.402,  0.127]])"
      ]
     },
     "execution_count": 39,
     "metadata": {},
     "output_type": "execute_result"
    }
   ],
   "source": [
    "# 1. Генерация матрицы X (200 x 10) из N(0,1)\n",
    "X = rng.normal(loc=0, scale=1, size=(200, 10))\n",
    "\n",
    "# 2. Центрирование по столбцам\n",
    "X_centered = X - np.mean(X, axis=0)\n",
    "\n",
    "# 3. Выполнение SVD\n",
    "U, S, Vt = np.linalg.svd(X_centered, full_matrices=False)\n",
    "\n",
    "# 4. Оставляем первые k=2 компоненты и строим приближение X2\n",
    "k = 2\n",
    "U_k = U[:, :k]  # Первые k столбцов U\n",
    "S_k = S[:k]     # Первые k сингулярных значений\n",
    "Vt_k = Vt[:k, :] # Первые k строк Vt\n",
    "X2 = U_k @ np.diag(S_k) @ Vt_k  # Приближение X2\n",
    "\n",
    "X2"
   ]
  },
  {
   "cell_type": "code",
   "execution_count": 40,
   "metadata": {},
   "outputs": [
    {
     "name": "stdout",
     "output_type": "stream",
     "text": [
      "Доля объясненной дисперсии (для k=2): 0.263237455154392\n",
      "Среднеквадратичная ошибка (RMSE): 0.8532850516499745\n"
     ]
    }
   ],
   "source": [
    "# 5. Оценка доли объясненной дисперсии\n",
    "explained_variance_ratio = np.sum(S_k**2) / np.sum(S**2)\n",
    "\n",
    "# 6. Среднеквадратичная ошибка (RMSE)\n",
    "mse = np.mean((X_centered - X2)**2)\n",
    "rmse = np.sqrt(mse)\n",
    "\n",
    "# Вывод результатов\n",
    "print(\"Доля объясненной дисперсии (для k=2):\", explained_variance_ratio)\n",
    "print(\"Среднеквадратичная ошибка (RMSE):\", rmse)"
   ]
  }
 ],
 "metadata": {
  "colab": {
   "provenance": []
  },
  "kernelspec": {
   "display_name": "Python 3",
   "language": "python",
   "name": "python3"
  },
  "language_info": {
   "codemirror_mode": {
    "name": "ipython",
    "version": 3
   },
   "file_extension": ".py",
   "mimetype": "text/x-python",
   "name": "python",
   "nbconvert_exporter": "python",
   "pygments_lexer": "ipython3",
   "version": "3.13.1"
  }
 },
 "nbformat": 4,
 "nbformat_minor": 1
}
